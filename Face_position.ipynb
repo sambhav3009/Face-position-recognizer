{
  "nbformat": 4,
  "nbformat_minor": 0,
  "metadata": {
    "colab": {
      "provenance": [],
      "authorship_tag": "ABX9TyNOMTqKZ+pIDn+zHdcqx4np",
      "include_colab_link": true
    },
    "kernelspec": {
      "name": "python3",
      "display_name": "Python 3"
    },
    "language_info": {
      "name": "python"
    }
  },
  "cells": [
    {
      "cell_type": "markdown",
      "metadata": {
        "id": "view-in-github",
        "colab_type": "text"
      },
      "source": [
        "<a href=\"https://colab.research.google.com/github/sambhav3009/Face-position-recognizer/blob/main/Face_position.ipynb\" target=\"_parent\"><img src=\"https://colab.research.google.com/assets/colab-badge.svg\" alt=\"Open In Colab\"/></a>"
      ]
    },
    {
      "cell_type": "code",
      "source": [
        "!pip install landingai &> /dev/null"
      ],
      "metadata": {
        "id": "9CxWu4SsVO6s"
      },
      "execution_count": 2,
      "outputs": []
    },
    {
      "cell_type": "code",
      "execution_count": 12,
      "metadata": {
        "colab": {
          "base_uri": "https://localhost:8080/"
        },
        "id": "XhcwbC5yVK7b",
        "outputId": "8717f329-9ec8-438b-f551-8e60687827cb"
      },
      "outputs": [
        {
          "output_type": "execute_result",
          "data": {
            "text/plain": [
              "[ClassificationPrediction(score=0.39729198813438416, label_name='Right', label_index=1)]"
            ]
          },
          "metadata": {},
          "execution_count": 12
        }
      ],
      "source": [
        "from PIL import Image\n",
        "from landingai.predict import Predictor\n",
        "# Enter your API Key\n",
        "endpoint_id = \"344238dc-6021-4fdf-bd19-0d472ebea2fb\"\n",
        "api_key = \"land_sk_7vbknaaQlplyOwi8TSC5GiFwutFjA6V8oNqfDpwc3lS6C08E8V\"\n",
        "# Load your image\n",
        "image = Image.open(\"/content/WIN_20240620_12_06_00_Pro.jpg\")\n",
        "# Run inference\n",
        "predictor = Predictor(endpoint_id, api_key=api_key)\n",
        "predictions = predictor.predict(image)\n",
        "predictions"
      ]
    }
  ]
}